{
 "cells": [
  {
   "cell_type": "markdown",
   "metadata": {},
   "source": [
    "# Arrays and Objects"
   ]
  },
  {
   "cell_type": "markdown",
   "metadata": {},
   "source": [
    "## Arrays\n",
    "\n",
    "Arrays are ordered lists of data.  \n",
    "\n",
    "In JavaScript, an array is a list of comma-separated values surrounded with brackets `[]`."
   ]
  },
  {
   "cell_type": "code",
   "execution_count": 3,
   "metadata": {},
   "outputs": [],
   "source": [
    "const dailyTemperatures = [80, 85, 70, 77, 82, 79, 80, 81, 82, 85]\n",
    "const dailyDidItSnow = [false, false, true, false, false, false, false, false, true]\n",
    "const dailyMood = [\"happy\", \"sad\", \"super duper happy\", \"super super sad\"]\n",
    "const emptyArray = []"
   ]
  },
  {
   "cell_type": "markdown",
   "metadata": {},
   "source": [
    "Each item in a an array is called an \"element.\"\n",
    "\n",
    "You can have lists of numbers, booleans, strings, and even other arrays, but nested arrays are scary so we won't get into it for now.  "
   ]
  },
  {
   "cell_type": "code",
   "execution_count": null,
   "metadata": {},
   "outputs": [],
   "source": [
    "const monstrosity = [\"happy\", false, 85] // You can even mix data types in an array, but it's not super common"
   ]
  },
  {
   "cell_type": "markdown",
   "metadata": {},
   "source": [
    "\n",
    "**Exercise 1**: Create an array contating the numbers 0 to 5 named \"numbers\"."
   ]
  },
  {
   "cell_type": "code",
   "execution_count": null,
   "metadata": {},
   "outputs": [],
   "source": [
    "// Define your array here"
   ]
  },
  {
   "cell_type": "markdown",
   "metadata": {},
   "source": [
    "**Exercise 2**: Create an array named \"hobbies\" containg some of your favorite things to do!"
   ]
  },
  {
   "cell_type": "code",
   "execution_count": null,
   "metadata": {},
   "outputs": [],
   "source": [
    "// Define your array here"
   ]
  },
  {
   "cell_type": "markdown",
   "metadata": {},
   "source": [
    "### Manipulating Arrays\n",
    "\n",
    "We saw that you can access an element in an array with `arrayName[index]`. You can also manipulate or replace that element directly, too."
   ]
  },
  {
   "cell_type": "code",
   "execution_count": null,
   "metadata": {},
   "outputs": [],
   "source": [
    "const myPreciousArray = [\"DONT CHANGE\", \"PLEASE DONT CHANGE\", \"NOOOO DONT CHANGE\"]\n",
    "\n",
    "console.log(myPreciousArray)\n",
    "\n",
    "myPreciousArray[0] = \"blah\"\n",
    "myPreciousArray[1] = \"blahhhhhh\"\n",
    "myPreciousArray[2] = \"blah blah blah\"\n",
    "\n",
    "console.log(myPreciousArray)"
   ]
  },
  {
   "cell_type": "markdown",
   "metadata": {},
   "source": [
    "**Exercise 3 - Manipulating Arrays**: Replace every number in the array below with -1."
   ]
  },
  {
   "cell_type": "code",
   "execution_count": null,
   "metadata": {},
   "outputs": [],
   "source": [
    "const testParameter0 = [10, 20, 30, 40, 50] // --> [-1, -1, -1, -1, -1]\n",
    "\n",
    "// Write your code below"
   ]
  },
  {
   "cell_type": "markdown",
   "metadata": {},
   "source": [
    "### Adding Elements\n",
    "\n",
    "- `.push()` adds an element to the end of an array\n",
    "- `.unshift()` adds an element to the beginning of an array"
   ]
  },
  {
   "cell_type": "code",
   "execution_count": null,
   "metadata": {},
   "outputs": [],
   "source": [
    "const shortArray = [1, 2, 3]\n",
    "shortArray.push(4) // Add 4 to the end of the array\n",
    "console.log(shortArray)\n",
    "\n",
    "const anotherShortArray = [2, 3, 4]\n",
    "anotherShortArray.unshift(1) // Add 1 to the beginning of the array\n",
    "console.log(anotherShortArray)"
   ]
  },
  {
   "cell_type": "markdown",
   "metadata": {},
   "source": [
    "**Exercise 4**: Using push() and unshift(), change the given array to the expected result."
   ]
  },
  {
   "cell_type": "code",
   "execution_count": null,
   "metadata": {},
   "outputs": [],
   "source": [
    "const testParameter0 = [\n",
    "    \"12345\",\n",
    "    \"hello world!\",\n",
    "    \"hi\"\n",
    "] // I want this array to become this --> [\"good evening\", \"good morning\", \"12345\", \"hello world!\", \"hi\", \"boop\"]\n",
    "\n",
    "\n",
    "// Write your code below"
   ]
  },
  {
   "cell_type": "markdown",
   "metadata": {},
   "source": [
    "**Exercise 5**: Create an array that holds the age of everyone in your immediate family. However, your array must initially be empty."
   ]
  },
  {
   "cell_type": "code",
   "execution_count": null,
   "metadata": {},
   "outputs": [],
   "source": [
    "// Your code here\n",
    "const ages = []"
   ]
  },
  {
   "cell_type": "markdown",
   "metadata": {},
   "source": [
    "Ok, now imagine you had a bunch of arrays of the ages of everyone in different extended families. So like, dozens of ages. How would you be able to tell who's who? You couldn't! Or, at least, it would take a lot of work."
   ]
  },
  {
   "cell_type": "markdown",
   "metadata": {},
   "source": [
    "## Objects"
   ]
  },
  {
   "cell_type": "markdown",
   "metadata": {},
   "source": [
    "Objects are *named* collections of items.\n",
    "\n",
    "In JavaScript, an object is a comma-separated collection of name-value pairs surrounded by curly brackets `{}`. The names and values are separated by a colon `:`."
   ]
  },
  {
   "cell_type": "code",
   "execution_count": null,
   "metadata": {},
   "outputs": [],
   "source": [
    "const anonymousFamilyAges = [21, 18, 14, 55, 54] // Attempt with an array from earlier\n",
    "\n",
    "const familyAges = {\n",
    "    leroy: 21,\n",
    "    sonny: 18,\n",
    "    sissy: 14,\n",
    "    tom: 55,\n",
    "    jenny: 54\n",
    "}"
   ]
  },
  {
   "cell_type": "markdown",
   "metadata": {},
   "source": [
    "**Exercise 6 - Your Own Object**: Create an object with the first name and ages of everyone in your immediate family."
   ]
  },
  {
   "cell_type": "code",
   "execution_count": null,
   "metadata": {},
   "outputs": [],
   "source": [
    "// Your code here"
   ]
  },
  {
   "cell_type": "markdown",
   "metadata": {},
   "source": [
    "**Exercise 7**: Create an object that represents your day so far. You can include any data you want. Here's mine as an example. You could create an object that represents anything, I'm just using my day as an example."
   ]
  },
  {
   "cell_type": "code",
   "execution_count": null,
   "metadata": {},
   "outputs": [],
   "source": [
    "const today = {\n",
    "    averageTemperature: 80,\n",
    "    brunch: \"bagel\",\n",
    "    playedMinecraft: true,\n",
    "    dinner: \"salmon\"\n",
    "}"
   ]
  },
  {
   "cell_type": "code",
   "execution_count": null,
   "metadata": {},
   "outputs": [],
   "source": [
    "// Your code here"
   ]
  },
  {
   "cell_type": "markdown",
   "metadata": {},
   "source": [
    "### Accessing Items\n",
    "\n",
    "Name-value pairs in objects are called \"properties.\" They can be accessed using dot `.` notation or brackets `[]`."
   ]
  },
  {
   "cell_type": "code",
   "execution_count": null,
   "metadata": {},
   "outputs": [],
   "source": [
    "const myDog = {\n",
    "    name: \"Coco\",\n",
    "    age: 6,\n",
    "    breed: \"mut\",\n",
    "    color: \"brown\"\n",
    "}\n",
    "\n",
    "console.log(myDog.name)\n",
    "console.log(myDog[\"name\"])\n",
    "console.log(myDog.age)\n",
    "\n",
    "const myDogMessage = \"My dog, \" + myDog.name + \", is a \" + myDog.age + \"-year old \" + myDog.color + \" \" + myDog.breed + \".\"\n",
    "console.log(myDogMessage)"
   ]
  },
  {
   "cell_type": "markdown",
   "metadata": {},
   "source": [
    "**Exercise 8**: Concatenate the three properties of the given object to create a message"
   ]
  },
  {
   "cell_type": "code",
   "execution_count": 6,
   "metadata": {},
   "outputs": [],
   "source": [
    "const deconstructedMessage = {\n",
    "    part1: \"Hello, \",\n",
    "    part2: \"my name is \",\n",
    "    part3: \"Bob, the Builder\"   \n",
    "}\n",
    "\n",
    "// Your code here"
   ]
  },
  {
   "cell_type": "markdown",
   "metadata": {},
   "source": [
    "### Nested Objects\n",
    "\n",
    "Objects can store more than just basic data types. They can store arrays, and even objects themselves."
   ]
  },
  {
   "cell_type": "code",
   "execution_count": null,
   "metadata": {},
   "outputs": [],
   "source": [
    "const nested = {\n",
    "    nestedObject: {\n",
    "        lookAtThis: \"wow!\"\n",
    "    },\n",
    "    list: [1, 2, 3]\n",
    "}\n",
    "\n",
    "const crazy = {\n",
    "    listOfObjects: [\n",
    "        {\n",
    "            property1: \"1\",\n",
    "            property2: \"2\"\n",
    "        },\n",
    "        {\n",
    "            property1: \"3\",\n",
    "            property2: \"4\"\n",
    "        }\n",
    "    ]\n",
    "}"
   ]
  },
  {
   "cell_type": "markdown",
   "metadata": {},
   "source": [
    "The first object has a single nested object called `nestedObject`, with a single property, `lookAtThis`. It also has a property, `list`, that holds a 3-element array.  \n",
    "\n",
    "The second object has a single property, `listOfObjects` that's, you guessed it, a list of objects. Each nested object is an object inside a list inside an object... crazy."
   ]
  }
 ],
 "metadata": {
  "kernelspec": {
   "display_name": "Deno",
   "language": "typescript",
   "name": "deno"
  },
  "language_info": {
   "codemirror_mode": "typescript",
   "file_extension": ".ts",
   "mimetype": "text/x.typescript",
   "name": "typescript",
   "nbconvert_exporter": "script",
   "pygments_lexer": "typescript",
   "version": "5.5.2"
  }
 },
 "nbformat": 4,
 "nbformat_minor": 2
}
