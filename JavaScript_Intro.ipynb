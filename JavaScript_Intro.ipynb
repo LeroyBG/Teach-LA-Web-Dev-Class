{
 "cells": [
  {
   "cell_type": "markdown",
   "metadata": {},
   "source": [
    "# Class 1: JavaScript Introduction"
   ]
  },
  {
   "cell_type": "markdown",
   "metadata": {},
   "source": [
    "## Jupyter Notebook Introduction\n",
    "\n",
    "Jupyter notebooks allow you to combine notes and code. Click the cell below and then press \"shift\" \"enter\" on your keyboard. You can also click the play button above.\n",
    "\n",
    "When the cell executes, the cell's output should appear below it."
   ]
  },
  {
   "cell_type": "code",
   "execution_count": null,
   "metadata": {},
   "outputs": [],
   "source": [
    "// Hello world program\n",
    "console.log(\"Hello world!\")"
   ]
  },
  {
   "cell_type": "markdown",
   "metadata": {},
   "source": [
    "You can edit the these text boxes by double clicking them. You might see some strange symbols. The text boxes are written in a language called [Markdown](https://www.markdownguide.org/basic-syntax/)."
   ]
  },
  {
   "cell_type": "markdown",
   "metadata": {},
   "source": [
    "**Exercise 1**: print your own message to the console.  "
   ]
  },
  {
   "cell_type": "code",
   "execution_count": null,
   "metadata": {},
   "outputs": [],
   "source": [
    "// Your code here"
   ]
  },
  {
   "cell_type": "markdown",
   "metadata": {},
   "source": [
    "## The Basics: Variables and Assignment\n",
    "\n",
    "Variables hold values.  \n",
    "\n",
    "Declare a variable using the `let` and `const` keywords followed by a value. `const` variables can't be re-assigned.  \n",
    "\n",
    "A variable name can consist of letters, numbers, and underscores, but can't start with a number.  \n",
    "\n",
    "If a variable name contains multiple letters, we usually type them in camel case, where we capitalize everyWordAfterTheFirst.  "
   ]
  },
  {
   "cell_type": "code",
   "execution_count": 1,
   "metadata": {},
   "outputs": [],
   "source": [
    "let message = \"how's it going? I'm a computer.\"\n",
    "const theMeaningOfLife = 42\n",
    "let currentBalance = 25\n",
    "let isHotOutside = true"
   ]
  },
  {
   "cell_type": "markdown",
   "metadata": {},
   "source": [
    "**Exercise 2**: Determine which of the following variable names are invalid. Write your answer in a comment using `//` next to each declaration."
   ]
  },
  {
   "cell_type": "code",
   "execution_count": null,
   "metadata": {},
   "outputs": [],
   "source": [
    "let myVar // valid\n",
    "let boringName\n",
    "let hmmm123\n",
    "let alskdmlsakdas129321312j1n412\n",
    "let 1stItem\n",
    "let _1stItem\n",
    "let _\n",
    "let __hello__123\n",
    "let +threeThousand\n",
    "let []bracket"
   ]
  },
  {
   "cell_type": "markdown",
   "metadata": {},
   "source": [
    "*Remember*: a variable name can start with a letter or underscore, and can only consist of letters, numbers, and underscores.  \n",
    "\n",
    "There are also certain reserved words, such as `let` and `const` (and more that we'll see), that can't be used as variable names.  "
   ]
  },
  {
   "cell_type": "code",
   "execution_count": null,
   "metadata": {},
   "outputs": [],
   "source": [
    "const undecided // Why does this cause an error?\n",
    "let alsoUndecided // But this doesn't"
   ]
  },
  {
   "cell_type": "markdown",
   "metadata": {},
   "source": [
    "Non-constant can also be re-assigned."
   ]
  },
  {
   "cell_type": "code",
   "execution_count": null,
   "metadata": {},
   "outputs": [],
   "source": [
    "message = \"it's going well. i'm a human.\"\n",
    "currentBalance = currentBalance - 5 // What is the value of currentBalance now?\n",
    "isHotOutside = false"
   ]
  },
  {
   "cell_type": "markdown",
   "metadata": {},
   "source": [
    "### Data Types\n",
    "\n",
    "JavaScript has 3 basic data types: `number`, `string`, and `boolean`.  \n",
    "\n",
    "A number is any real numeric value you can think of, including infinity.  \n",
    "A string is a sequence of characters surrounded by a set of quotes.  \n",
    "A boolean value is simply `true` or `false`.  "
   ]
  },
  {
   "cell_type": "code",
   "execution_count": null,
   "metadata": {},
   "outputs": [],
   "source": [
    "// Numbers\n",
    "\n",
    "let age = 20 // Integers (non-decimals)\n",
    "const pi = 3.14159265 // Decimals, commonly called \"floats\"\n",
    "let debt = -700 // Negative number\n",
    "const inf = Infinity\n",
    "\n",
    "// Strings\n",
    "\n",
    "let url = \"spotify.com\" // Double-quoted\n",
    "const empty = \"\"\n",
    "let singleQuoted = 'you can also do this'\n",
    "const nonsense = \"lasmdlasmn fkangsd sdfsa df asdaf;ldsfgf;ldfs09i24532\"\n",
    "\n",
    "// Booleans\n",
    "\n",
    "let sunnyToday = true\n",
    "let rainyToday = false"
   ]
  },
  {
   "cell_type": "markdown",
   "metadata": {},
   "source": [
    "**Exercise**: Create 3 variables:\n",
    "1. `myName` stores your name.\n",
    "2. `myAge` to stores your age\n",
    "3. `hasPet` stores whether or not you have a pet (what should the data type be?)\n",
    "4. Print your variables using `console.log()`"
   ]
  },
  {
   "cell_type": "code",
   "execution_count": null,
   "metadata": {},
   "outputs": [],
   "source": [
    "// example\n",
    "let myMiddleName = \"lightning\"\n",
    "console.log(myMiddleName)\n",
    "\n",
    "\n",
    "// Your code below..."
   ]
  },
  {
   "cell_type": "markdown",
   "metadata": {},
   "source": [
    "###"
   ]
  },
  {
   "cell_type": "markdown",
   "metadata": {},
   "source": [
    "### `Number`s: Arithmetic\n",
    "\n",
    "You can add, subtract, multiply, and divide with numbers similar to how you would with a calculator.  "
   ]
  },
  {
   "cell_type": "code",
   "execution_count": null,
   "metadata": {},
   "outputs": [],
   "source": [
    "let add = 120 + 250\n",
    "console.log(add)\n",
    "\n",
    "let sub = 1200 - 305\n",
    "console.log(sub)\n",
    "\n",
    "let mul = 25 * 20\n",
    "console.log(mul)\n",
    "\n",
    "let div = 180 / 12\n",
    "console.log(div)"
   ]
  },
  {
   "cell_type": "markdown",
   "metadata": {},
   "source": [
    "You can exponentiate with `**`.  "
   ]
  },
  {
   "cell_type": "code",
   "execution_count": null,
   "metadata": {},
   "outputs": [],
   "source": [
    "let exp = 30 ** 2"
   ]
  },
  {
   "cell_type": "markdown",
   "metadata": {},
   "source": [
    "#### Integer Division\n",
    "\n",
    "Commonly in programming, we want to calculate the result of division without using decimals.  \n",
    "This can be achieved using normal division and `Math.floor()`.  "
   ]
  },
  {
   "cell_type": "code",
   "execution_count": null,
   "metadata": {},
   "outputs": [],
   "source": [
    "let normalDiv = 100 / 33\n",
    "let intDiv = Math.floor(100 / 33) // What is the value of intDiv?"
   ]
  },
  {
   "cell_type": "markdown",
   "metadata": {},
   "source": [
    "#### Remainder\n",
    "\n",
    "We can also calculate the remainder of integer division using `%`.  "
   ]
  },
  {
   "cell_type": "code",
   "execution_count": null,
   "metadata": {},
   "outputs": [],
   "source": [
    "let rem = 100 % 33"
   ]
  },
  {
   "cell_type": "markdown",
   "metadata": {},
   "source": [
    "**Exercise**: In the cell below, every time you run the cell, `randomNumber` will have a different value.\n",
    "\n",
    "1. Extract the value in the 10's place from `randomNumber` and store it in a variable with a name of your choice.\n",
    "2. Extract the value in the 1's place from `randomNumber` and store it in a variable with a name of your choice.\n",
    "\n",
    "Verify your answer by printing `randomNumber` as well as the values you extracted"
   ]
  },
  {
   "cell_type": "code",
   "execution_count": null,
   "metadata": {},
   "outputs": [],
   "source": [
    "const randomNumber = Math.floor(Math.random() * 9 + 1) * 100 + Math.floor((Math.random() * 9) + 1) * 10 + Math.floor(Math.random() * 10)\n",
    "\n",
    "// Your code goes here"
   ]
  },
  {
   "cell_type": "markdown",
   "metadata": {},
   "source": [
    "### Manipulating Strings\n",
    "\n",
    "You can also add strings to create new ones with `+`. This is called \"concatenation.\"  "
   ]
  },
  {
   "cell_type": "code",
   "execution_count": null,
   "metadata": {},
   "outputs": [],
   "source": [
    "let greeting = \"Hello,\"\n",
    "let username = \"Bob\"\n",
    "\n",
    "let msg = greeting + ' ' + username"
   ]
  },
  {
   "cell_type": "markdown",
   "metadata": {},
   "source": [
    "**Exercise**: Using the `myName` and `myAge` variables from before, use string concatenation to create a string that displays your name and age. If you didn't create the variables before, create them in the cell below.\n",
    "\n",
    "*Note*: If you didn't run the cell where you created `myName` and `myAge`, those variables won't be accessible from other cells."
   ]
  },
  {
   "cell_type": "code",
   "execution_count": null,
   "metadata": {},
   "outputs": [],
   "source": [
    "// Your code here"
   ]
  }
 ],
 "metadata": {
  "kernelspec": {
   "display_name": "Deno",
   "language": "typescript",
   "name": "deno"
  },
  "language_info": {
   "codemirror_mode": "typescript",
   "file_extension": ".ts",
   "mimetype": "text/x.typescript",
   "name": "typescript",
   "nbconvert_exporter": "script",
   "pygments_lexer": "typescript",
   "version": "5.5.2"
  }
 },
 "nbformat": 4,
 "nbformat_minor": 2
}
