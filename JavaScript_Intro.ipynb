{
 "cells": [
  {
   "cell_type": "markdown",
   "metadata": {},
   "source": [
    "# JavaScript Introduction"
   ]
  },
  {
   "cell_type": "code",
   "execution_count": 26,
   "metadata": {},
   "outputs": [
    {
     "name": "stdout",
     "output_type": "stream",
     "text": [
      "Hello world!\n"
     ]
    }
   ],
   "source": [
    "// Hello world program\n",
    "console.log(\"Hello world!\")"
   ]
  },
  {
   "cell_type": "markdown",
   "metadata": {},
   "source": [
    "## The Basics: Variables and Assignment\n",
    "\n",
    "Variables hold values.\n",
    "\n",
    "Declare a variable using the `let` and `const` keywords followed by a value. `const` variables can't be re-assigned.\n",
    "\n",
    "If a variable name contains multiple letters, we usually type them in camel case, where we capitalize everyWordAfterTheFirst."
   ]
  },
  {
   "cell_type": "code",
   "execution_count": 27,
   "metadata": {},
   "outputs": [],
   "source": [
    "let message = \"how's it going? I'm a computer.\"\n",
    "const theMeaningOfLife = 42\n",
    "let currentBalance = 25\n",
    "let isHotOutside = true"
   ]
  },
  {
   "cell_type": "code",
   "execution_count": 28,
   "metadata": {},
   "outputs": [
    {
     "ename": "SyntaxError",
     "evalue": "Missing initializer in const declaration",
     "output_type": "error",
     "traceback": [
      "Stack trace:",
      "SyntaxError: Missing initializer in const declaration"
     ]
    }
   ],
   "source": [
    "const undecided // Why does this cause an error?"
   ]
  },
  {
   "cell_type": "markdown",
   "metadata": {},
   "source": [
    "Non-constant can also be re-assigned."
   ]
  },
  {
   "cell_type": "code",
   "execution_count": 29,
   "metadata": {},
   "outputs": [
    {
     "data": {
      "text/plain": [
       "\u001b[33mfalse\u001b[39m"
      ]
     },
     "execution_count": 29,
     "metadata": {},
     "output_type": "execute_result"
    }
   ],
   "source": [
    "message = \"it's going well. i'm a human.\"\n",
    "currentBalance = currentBalance - 5 // What is the value of currentBalance now?\n",
    "isHotOutside = false"
   ]
  },
  {
   "cell_type": "markdown",
   "metadata": {},
   "source": [
    "### Data Types\n",
    "\n",
    "JavaScript has 3 basic data types: `number`, `string`, and `boolean`.  \n",
    "\n",
    "A number is any real numeric value you can think of, including infinity.  \n",
    "A string is a sequence of characters surrounded by a set of quotes.  \n",
    "A boolean value is simply `true` or `false`.  "
   ]
  },
  {
   "cell_type": "code",
   "execution_count": 30,
   "metadata": {},
   "outputs": [],
   "source": [
    "// Numbers\n",
    "\n",
    "let age = 20 // Integers (non-decimals)\n",
    "const pi = 3.14159265 // Decimals, commonly called \"floats\"\n",
    "let debt = -700 // Negative number\n",
    "const inf = Infinity\n",
    "\n",
    "// Strings\n",
    "\n",
    "let url = \"spotify.com\" // Double-quoted\n",
    "const empty = \"\"\n",
    "let singleQuoted = 'you can also do this'\n",
    "const nonsense = \"lasmdlasmn fkangsd sdfsa df asdaf;ldsfgf;ldfs09i24532\"\n",
    "\n",
    "// Booleans\n",
    "\n",
    "let sunnyToday = true\n",
    "let rainyToday = false"
   ]
  },
  {
   "cell_type": "markdown",
   "metadata": {},
   "source": [
    "### Numbers: Arithmetic\n",
    "\n",
    "You can add, subtract, multiply, and divide with numbers similar to how you would with a calculator.  "
   ]
  },
  {
   "cell_type": "code",
   "execution_count": 32,
   "metadata": {},
   "outputs": [
    {
     "name": "stdout",
     "output_type": "stream",
     "text": [
      "370\n",
      "895\n",
      "500\n",
      "15\n"
     ]
    }
   ],
   "source": [
    "let add = 120 + 250\n",
    "console.log(add)\n",
    "\n",
    "let sub = 1200 - 305\n",
    "console.log(sub)\n",
    "\n",
    "let mul = 25 * 20\n",
    "console.log(mul)\n",
    "\n",
    "let div = 180 / 12\n",
    "console.log(div)"
   ]
  },
  {
   "cell_type": "markdown",
   "metadata": {},
   "source": [
    "You can exponentiate with `**`.  "
   ]
  },
  {
   "cell_type": "code",
   "execution_count": 33,
   "metadata": {},
   "outputs": [],
   "source": [
    "let exp = 30 ** 2"
   ]
  },
  {
   "cell_type": "markdown",
   "metadata": {},
   "source": [
    "#### Integer Division\n",
    "\n",
    "Commonly in programming, we want to calculate the result of division without using decimals.  \n",
    "This can be achieved using normal division and `Math.floor()`.  "
   ]
  },
  {
   "cell_type": "code",
   "execution_count": 34,
   "metadata": {},
   "outputs": [],
   "source": [
    "let normalDiv = 100 / 33\n",
    "let intDiv = Math.floor(100 / 33) // What is the value of intDiv?"
   ]
  },
  {
   "cell_type": "markdown",
   "metadata": {},
   "source": [
    "#### Remainder\n",
    "\n",
    "We can also calculate the remainder of integer division using `%`.  "
   ]
  },
  {
   "cell_type": "code",
   "execution_count": 35,
   "metadata": {},
   "outputs": [],
   "source": [
    "let rem = 100 % 33"
   ]
  },
  {
   "cell_type": "markdown",
   "metadata": {},
   "source": [
    "### Manipulating Strings\n",
    "\n",
    "You can also add strings to create new ones with `+`. This is called \"concatenation.\"  "
   ]
  },
  {
   "cell_type": "code",
   "execution_count": 36,
   "metadata": {},
   "outputs": [],
   "source": [
    "let greeting = \"Hello,\"\n",
    "let username = \"Bob\"\n",
    "\n",
    "let msg = greeting + ' ' + username"
   ]
  }
 ],
 "metadata": {
  "kernelspec": {
   "display_name": "Deno",
   "language": "typescript",
   "name": "deno"
  },
  "language_info": {
   "codemirror_mode": "typescript",
   "file_extension": ".ts",
   "mimetype": "text/x.typescript",
   "name": "typescript",
   "nbconvert_exporter": "script",
   "pygments_lexer": "typescript",
   "version": "5.5.2"
  }
 },
 "nbformat": 4,
 "nbformat_minor": 2
}
