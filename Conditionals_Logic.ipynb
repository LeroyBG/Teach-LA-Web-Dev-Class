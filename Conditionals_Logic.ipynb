{
 "cells": [
  {
   "cell_type": "markdown",
   "metadata": {},
   "source": [
    "## Class 2: Conditionals and Boolean Logic"
   ]
  },
  {
   "cell_type": "markdown",
   "metadata": {},
   "source": [
    "### Recap: Variables, Assignment, Arithmetic\n",
    "\n",
    "Last class, we learned about the 3 basic data types in JavaScript: `number`, `string`, and `boolean`.  \n",
    "We learned that numbers can be added, subtracted, multiplied, etc.; strings can be concatenated; but what about `boolean`s?  \n",
    "\n",
    "`boolean` values may seem limited compared to `number`s and `string`s, but they're super useful when we want to give our program some decision-making capabilities."
   ]
  },
  {
   "cell_type": "markdown",
   "metadata": {},
   "source": [
    "## Control Flow"
   ]
  },
  {
   "cell_type": "markdown",
   "metadata": {},
   "source": [
    "### The `if` statement\n",
    "\n",
    "The `if` statement allows us to run code only if a supplied value is true."
   ]
  },
  {
   "cell_type": "code",
   "execution_count": null,
   "metadata": {},
   "outputs": [],
   "source": [
    "let isRainy = true\n",
    "let isCloudy = false\n",
    "\n",
    "if (isRainy) {\n",
    "    console.log(\"Put on a hat\") // Will this code run?\n",
    "}\n",
    "\n",
    "if (isCloudy) {\n",
    "    console.log(\"Make sure to still wear sunscreen!\") // What about this?\n",
    "}"
   ]
  },
  {
   "cell_type": "markdown",
   "metadata": {},
   "source": [
    "**Exercise 1**: Write a program that outputs a message if it's *both* rainy and cloudy. Only use concepts we've learned in class."
   ]
  },
  {
   "cell_type": "code",
   "execution_count": null,
   "metadata": {},
   "outputs": [],
   "source": [
    "// Your code here"
   ]
  },
  {
   "cell_type": "markdown",
   "metadata": {},
   "source": [
    "## Logic"
   ]
  },
  {
   "cell_type": "markdown",
   "metadata": {},
   "source": [
    "There's a better way to do this. Boolean operators allow you to express logical statements in your programs. One such operator is the logical \"and\" operator `&&`. The \"and\" operator evaluates to `true` if and only if both the left and right hand expressions are `true`.\n",
    "\n",
    "The same way a statement like \"roses are red and violets are blue\" is only true if both roses are red and violets are blue. Violets are freaking violet, not blue, so the entire statement is false.\n",
    "\n",
    "We can rewrite the example above as:"
   ]
  },
  {
   "cell_type": "code",
   "execution_count": null,
   "metadata": {},
   "outputs": [],
   "source": [
    "if (isRainy && isCloudy) { // It's rainy and cloudy\n",
    "    console.log(\"Looks like it's gonna be a gloomy day\")\n",
    "}"
   ]
  },
  {
   "cell_type": "markdown",
   "metadata": {},
   "source": [
    "We also have the logical \"or\" operator `||`. This operator evaluates to `true` if at least one of the left or right hand statements are true."
   ]
  },
  {
   "cell_type": "code",
   "execution_count": null,
   "metadata": {},
   "outputs": [],
   "source": [
    "if (isRainy || isCloudy) { // It's rainy or cloudy\n",
    "    console.log(\"When will it be sunny?...\")\n",
    "}"
   ]
  },
  {
   "cell_type": "markdown",
   "metadata": {},
   "source": [
    "Finally, the negation operator, \"not\" (a.k.a. \"bang\"), `!`, negates a boolean expression. So, `!true`, or, \"not true,\" evaluates to `false`."
   ]
  },
  {
   "cell_type": "code",
   "execution_count": null,
   "metadata": {},
   "outputs": [],
   "source": [
    "if (isCloudy && !isRainy) { // It's rainy, but not cloudy\n",
    "    console.log(\"Hopefully the clouds clear and we get a sunny day!\")\n",
    "}"
   ]
  },
  {
   "cell_type": "markdown",
   "metadata": {},
   "source": [
    "## Back to Control Flow"
   ]
  },
  {
   "cell_type": "markdown",
   "metadata": {},
   "source": [
    "**Exercise 2**: Write a program that displays a message to the user depending on the following logic:  \n",
    "\n",
    "If it's a summer afternoon,  \n",
    "\n",
    "- if there's an ice cream truck and a sprinkler nearby, tell the user to go in the sprinkler on their way to the truck  \n",
    "- if there's no sprinkler but there's an ice cream truck, tell the user to go straight to the ice cream truck  \n",
    "- if there's no ice cream truck but there's a sprinkler, tell the user to go play in the sprinkler  \n",
    "- if there's no ice cream truck or sprinkler, tell the user they're out of luck  \n",
    "\n",
    "if it's not summer or it's not afternoon, tell the user they don't need to cool off  "
   ]
  },
  {
   "cell_type": "code",
   "execution_count": null,
   "metadata": {},
   "outputs": [],
   "source": [
    "// Don't write any code in this cell. Run this cell to randomize the variables your program uses.\n",
    "// It'll also print the variable values to help you debug your program\n",
    "\n",
    "// Flip a coin to get true or false for each variable \n",
    "let isSummer = Boolean(Math.floor(Math.random() * 2))\n",
    "let isAfternoon = Boolean(Math.floor(Math.random() * 2))\n",
    "let sprinklerNearby = Boolean(Math.floor(Math.random() * 2))\n",
    "let iceCreamTruckNearby = Boolean(Math.floor(Math.random() * 2))\n",
    "\n",
    "console.log(\"it \" + (isSummer ? \"is\" : \"isn't\") + \" summer.\")\n",
    "console.log(\"it \" + (isAfternoon ? \"is\" : \"isn't\") + \" the afternoon.\")\n",
    "console.log(\"there \" + (sprinklerNearby ? \"is\" : \"isn't\") + \" a sprinkler nearby.\")\n",
    "console.log(\"there \" + (iceCreamTruckNearby ? \"is\" : \"isn't\") + \" an ice cream truck nearby.\")\n"
   ]
  },
  {
   "cell_type": "code",
   "execution_count": null,
   "metadata": {},
   "outputs": [],
   "source": [
    "// Your code goes here"
   ]
  },
  {
   "cell_type": "markdown",
   "metadata": {},
   "source": [
    "### The `else` statement\n",
    "\n",
    "The `else` statement allows us to run code if the preceding `if` statement failed.  \n",
    "\n",
    "Consider the following snippet:  "
   ]
  },
  {
   "cell_type": "code",
   "execution_count": null,
   "metadata": {},
   "outputs": [],
   "source": [
    "if (isAfternoon) {\n",
    "    console.log(\"Time to take a nap\")\n",
    "}\n",
    "if (!isAfternoon) {\n",
    "    console.log(\"Waiting to take a nap :)\")\n",
    "}"
   ]
  },
  {
   "cell_type": "markdown",
   "metadata": {},
   "source": [
    "In english, we would read this program as, \"if it's afternoon, take a nap. If it's not afternoon, wait to take a nap.\" But there's a more intentional way of saying this:  \n",
    "\n",
    "\"If it's afternoon, take a nap, *otherwise*, wait to nap.\" We can express this in code as well:  "
   ]
  },
  {
   "cell_type": "code",
   "execution_count": null,
   "metadata": {},
   "outputs": [],
   "source": [
    "if (isAfternoon) {\n",
    "    console.log(\"Time to take a nap\")\n",
    "} \n",
    "else {\n",
    "    console.log(\"Waiting to nap\")\n",
    "}"
   ]
  },
  {
   "cell_type": "markdown",
   "metadata": {},
   "source": [
    "While the two programs do the same thing, the second one is easier to understand. The author's intention is more obvious.  \n",
    "\n",
    "A program isn't just a series of instructions telling the computer to *do something*; it's an expression of your ideas that *means something*.  \n",
    "\n",
    "At the very least, you want your programs to be as easy to understand as possible so your future self doesn't have to lose sleep trying to understand your program.  "
   ]
  },
  {
   "cell_type": "markdown",
   "metadata": {},
   "source": [
    "### The `else if` statement\n",
    "\n",
    "The `else if` statement allows you to run code all previous `if` and `else if` statements have failed, and the supplied condition is true.  \n",
    "\n",
    "Let's rewrite the previous exercise using `if`, `else if`, and `else`.  "
   ]
  },
  {
   "cell_type": "markdown",
   "metadata": {},
   "source": [
    "Copying the exercise problem from above:  \n",
    "\n",
    "If it's a summer afternoon,  \n",
    "\n",
    "- if there's an ice cream truck and a sprinkler nearby, tell the user to go in the sprinkler on their way to the truck  \n",
    "- if there's no sprinkler but there's an ice cream truck, tell the user to go straight to the ice cream truck  \n",
    "- if there's no ice cream truck but there's a sprinkler, tell the user to go play in the sprinkler  \n",
    "- if there's no ice cream truck or sprinkler, tell the user they're out of luck  \n",
    "\n",
    "if it's not summer or it's not afternoon, tell the user they don't need to cool off  "
   ]
  },
  {
   "cell_type": "code",
   "execution_count": null,
   "metadata": {},
   "outputs": [],
   "source": [
    "if (isSummer && isAfternoon) {\n",
    "    if (iceCreamTruckNearby && sprinklerNearby) {\n",
    "        console.log(\"visit the sprinkler on the way to the ice cream truck\")\n",
    "    }\n",
    "    else if (iceCreamTruckNearby) {\n",
    "        console.log(\"go straight to the ice cream truck\")\n",
    "    }\n",
    "    else if (sprinklerNearby) {\n",
    "        console.log(\"go play in the sprinkler\")\n",
    "    }\n",
    "    else {\n",
    "        console.log(\"you're out of luck :(\")\n",
    "    }\n",
    "} else {\n",
    "    console.log(\"you don't need to cool off\")\n",
    "}"
   ]
  },
  {
   "cell_type": "markdown",
   "metadata": {},
   "source": [
    "Once again, we could have written this with plain `if` statements, but the `else if` statements make our program easier to understand."
   ]
  },
  {
   "cell_type": "markdown",
   "metadata": {},
   "source": [
    "## More Logic"
   ]
  },
  {
   "cell_type": "markdown",
   "metadata": {},
   "source": [
    "What if we want our program to make decisions based on numeric values? For example, only allow the user to make a withdrawal if they have enough money in their account.  \n",
    "\n",
    "For these types of decisions, we need to be able make decisions based on if two values are less than, equal to, not equal to, etc. Fortunately, JavaScript gives us those operators, too.\n",
    "\n",
    "- `>` \"greater than\"\n",
    "- `<` \"less than\"\n",
    "- `===` \"equal to\"\n",
    "- `!==` \"not equal to\"\n",
    "- `>=` \"greater than or equal to\"\n",
    "- `<=` \"less than or equal to\""
   ]
  },
  {
   "cell_type": "code",
   "execution_count": null,
   "metadata": {},
   "outputs": [],
   "source": [
    "let balance = 25\n",
    "let requestedWithdrawal = 24\n",
    "\n",
    "console.log(\"You requested to withdraw \" + requestedWithdrawal + \" from your account with \" + balance + \" dollars\")\n",
    "if (balance >= requestedWithdrawal) { // \"If balance is greater than or equal to the requested withdrawal\"\n",
    "    balance = balance - requestedWithdrawal\n",
    "    console.log(\"Success! Current balance: \" + balance)\n",
    "} else {\n",
    "    console.log(\"Insufficient funds!\")\n",
    "}"
   ]
  },
  {
   "cell_type": "markdown",
   "metadata": {},
   "source": [
    "**Exercise 3**: Different states and cities have different sales taxes. I want to buy a sandwich in Los Angeles, but I might not have enough money in my account when sales taxes are added, so I keep Los Vegas as a backup option because they have lower sales tax.  \n",
    "\n",
    "Write a program that  \n",
    "\n",
    "1. Calculates the sandwiches' final price after sales tax\n",
    "2. Tells me where I should buy the sandwich:\n",
    "\n",
    "If I have enough money to buy it in Los Angeles, tell me to buy it there. Otherwise, check if I have enough money to buy it in Las Vegas. Otherwise, tell me I can't buy the sandwich *and* check if my account balance is zero, in which case output \"you are broke\" or something.  "
   ]
  },
  {
   "cell_type": "code",
   "execution_count": null,
   "metadata": {},
   "outputs": [],
   "source": [
    "// Don't edit this cell. Run this cell to randomize the variables your program uses.\n",
    "\n",
    "const LosAngelesSalesTax = 0.15\n",
    "const LasVegasSalesTax = 0.055\n",
    "const sandwichPrice = 15\n",
    "\n",
    "// Get random account balance\n",
    "const accountBalance = Boolean(Math.floor(Math.random() * 4)) ? 15 + Math.floor(Math.random() * 6) : 0\n",
    "\n",
    "console.log(\"You're trying to buy a \" + sandwichPrice + \" dollar sandwich (before tax) with \" + accountBalance + \" in your account\")"
   ]
  },
  {
   "cell_type": "code",
   "execution_count": null,
   "metadata": {},
   "outputs": [],
   "source": [
    "// Your code goes here"
   ]
  },
  {
   "cell_type": "markdown",
   "metadata": {},
   "source": [
    "### String Comparison\n",
    "\n",
    "The equality and inequality operators, `===` and `!==`, can also be used to check for equality between strings.  \n",
    "\n",
    "Two strings must be EXACTLY equal (same characters, same case, same whitespace, etc.) to be considered equal by `===`.  \n",
    "\n",
    "In the cell below, record what you think the value of each expression will be in a comment next to the expression itself.  "
   ]
  },
  {
   "cell_type": "code",
   "execution_count": null,
   "metadata": {},
   "outputs": [],
   "source": [
    "console.log(\"asosajdnas\" == \"password123\") // false\n",
    "\n",
    "// Your turn. After you finish, run this cell to verify your assumptions\n",
    "console.log(\"hello\" === \"hello\")\n",
    "console.log(\"hello\" == \"goodbye\")\n",
    "console.log(\"\" === \"\")\n",
    "console.log(\"Hello\" === \"hello\")\n",
    "console.log(\"hello \" === \"hello\")\n",
    "console.log(\"4\" === 4)"
   ]
  }
 ],
 "metadata": {
  "kernelspec": {
   "display_name": "Deno",
   "language": "typescript",
   "name": "deno"
  },
  "language_info": {
   "codemirror_mode": "typescript",
   "file_extension": ".ts",
   "mimetype": "text/x.typescript",
   "name": "typescript",
   "nbconvert_exporter": "script",
   "pygments_lexer": "typescript",
   "version": "5.5.2"
  }
 },
 "nbformat": 4,
 "nbformat_minor": 2
}
