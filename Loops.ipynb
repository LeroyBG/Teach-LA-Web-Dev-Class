{
 "cells": [
  {
   "cell_type": "markdown",
   "metadata": {},
   "source": [
    "# Class 3: Loops"
   ]
  },
  {
   "cell_type": "markdown",
   "metadata": {},
   "source": [
    "![Bart Simpson drawing on the whiteboard](https://townsquare.media/site/442/files/2020/06/s12e12.jpg?w=780&q=75)"
   ]
  },
  {
   "cell_type": "markdown",
   "metadata": {},
   "source": [
    "Loops let us run code many, many times.  \n",
    "\n",
    "Each episode of The Simpsons opens with a shot of bart writing a message on the white board over and over. Once considered the premier   student discipline method, repetitive tasks can now be automated with the help of loops!"
   ]
  },
  {
   "cell_type": "code",
   "execution_count": null,
   "metadata": {},
   "outputs": [],
   "source": [
    "const numberOfRepetitions = 100\n",
    "const message = \"I WILL NOT PUBLISH THE PRINCIPAL'S CREDIT REPORT\"\n",
    "\n",
    "let linesCompleted = 0\n",
    "\n",
    "while (linesCompleted < numberOfRepetitions) {\n",
    "    console.log(message)\n",
    "    linesCompleted = linesCompleted + 1\n",
    "}"
   ]
  },
  {
   "cell_type": "markdown",
   "metadata": {},
   "source": [
    "What took bart hours took us less than a second! But how does this work?"
   ]
  },
  {
   "cell_type": "markdown",
   "metadata": {},
   "source": [
    "### The `while` loop\n",
    "\n",
    "The `while` loop repeats a block of code until the supplied expression evaluates to false."
   ]
  },
  {
   "cell_type": "code",
   "execution_count": null,
   "metadata": {},
   "outputs": [],
   "source": [
    "while (condition) {\n",
    "    // code to repeat...\n",
    "}"
   ]
  },
  {
   "cell_type": "markdown",
   "metadata": {},
   "source": [
    "The while loop's definition is remarkably similar to the `if` statement's. In fact, a while loop is just an if statement that repeats."
   ]
  },
  {
   "cell_type": "code",
   "execution_count": null,
   "metadata": {},
   "outputs": [],
   "source": [
    "if (condition) {\n",
    "    // code to repeat...\n",
    "\n",
    "    // go back to condition!\n",
    "}"
   ]
  },
  {
   "cell_type": "markdown",
   "metadata": {},
   "source": [
    "Except, with an `if` statement, we have no way of actually making the program go back to the condition, which is why the `while` loop is necessary.  \n",
    "\n",
    "Consider the code below. What will its output be? Is there anything wrong?  \n",
    "\n",
    "```JavaScript\n",
    "const numberOfRepetitions = 100\n",
    "const message = \"I WILL NOT PUBLISH THE PRINCIPAL'S CREDIT REPORT\"\n",
    "\n",
    "let linesCompleted = 0\n",
    "\n",
    "while (linesCompleted < numberOfRepetitions) {\n",
    "    console.log(message)\n",
    "}\n",
    "```"
   ]
  },
  {
   "cell_type": "markdown",
   "metadata": {},
   "source": [
    "The reason the code above isn't executable in this notebook is because it will crash whatever application you use to open it.   \n",
    "\n",
    "To try this in a sandboxed environment,   \n",
    "\n",
    "1. open a **NEW** page on your web browser\n",
    "2. right-click the page and click \"inspect element\" \n",
    "3. At the top of the window that opens up, there should be a list of pages \"Elements,\" \"Console,\" \"Sources,\" etc. \n",
    "4. Click \"Console\"\n",
    "5. In the console, past the following code followed by enter: `while (true) {}`\n",
    "\n",
    "If done correctly, the web page will stop responding. The processor dedicated to the web page is stuck executing executing the loop with no end in sight, so the page can't even process something like a click or scroll.  \n",
    "\n",
    "Congratulations! You've just learned your first bit of malicious code. With great power comes great responsibility.  "
   ]
  },
  {
   "cell_type": "markdown",
   "metadata": {},
   "source": [
    "#### Aside: Stopping a Cell\n",
    "\n",
    "If you accidentally create an infinite `while` loop, you can use the grey square stop button at the top of the notebook to halt the cell's execution."
   ]
  },
  {
   "cell_type": "markdown",
   "metadata": {},
   "source": [
    "**Exercise 4**: A somewhat useful `while` loop.  \n",
    "\n",
    "The expression `Boolean(Math.floor(Math.random() * 2)) ? \"H\" : \"T\"` simulates flipping a coin. It has a 50% chance of evaluating to `\"H\"` and a 50% chance of evaluating to `\"T\"`.  \n",
    "\n",
    "Write a `while` loop that repeatedly uses this expression until 4 heads are flipped in a row. The program should output the total number of tries needed at the end.  "
   ]
  },
  {
   "cell_type": "code",
   "execution_count": null,
   "metadata": {},
   "outputs": [],
   "source": [
    "// Your code here"
   ]
  },
  {
   "cell_type": "markdown",
   "metadata": {},
   "source": [
    "#### Aside: Grabbing a Character from a String and 0-Based Indexing\n",
    "\n",
    "As defined earlier, a string is just a sequence of characters. Sometimes, it's useful to extract individual characters from within a string.  \n",
    "\n",
    "We use square brackets `[]` to grab characters from a string. Supply the character's index in the brackets and you get the character:  "
   ]
  },
  {
   "cell_type": "code",
   "execution_count": null,
   "metadata": {},
   "outputs": [],
   "source": [
    "const myStr = \"Did you know the ancient Greek's had no symbol for zero?\"\n",
    "console.log(myStr[0])"
   ]
  },
  {
   "cell_type": "markdown",
   "metadata": {},
   "source": [
    "Wait, why does `myStr[0]` evaluate to `'D'`? Why did we grab the zeroth letter of a string? Who starts counting at zero?  \n",
    "\n",
    "Many programming languages use what's called *zero-based indexing*, or, simply, counting lists starting at 0. The [reason why](https://en.wikipedia.org/wiki/Zero-based_numbering#Computer_programming) is complicated and many programmers don't like it, but if you want to learn to code, you gotta get used to it.  \n",
    "\n",
    "Here's a visualization of the string `\"hello\"`:  \n",
    "\n",
    "| character | h | e | l | l | o |\n",
    "|-----------|---|---|---|---|---|\n",
    "| index     | 0 | 1 | 2 | 3 | 4 |\n",
    "\n",
    "Another wrinkle is that the last character of a 5-character string, in this case, has index 4. In every day life, we'd say the 5th element of a 5-element list is the last, but in programming, it's the 4th.   "
   ]
  },
  {
   "cell_type": "markdown",
   "metadata": {},
   "source": [
    "**Exercise 5**: Write a program that extracts the first, second, and last characters (\"S\", \"h\", \"e\") from the supplied string and concatenates them together. Print your answer to verify it."
   ]
  },
  {
   "cell_type": "code",
   "execution_count": null,
   "metadata": {},
   "outputs": [],
   "source": [
    "const extract = \"Shoe\"\n",
    "\n",
    "// Your code here"
   ]
  },
  {
   "cell_type": "markdown",
   "metadata": {},
   "source": [
    "**Exercise 6**: Write a program that prints each character in the supplied string *one by one*.  \n",
    "\n",
    "*Note*: You can get a string's length using the `length` property. Write the variable name followed by `.length`. For the string in the cell above, `extract.length == 4`.  "
   ]
  },
  {
   "cell_type": "code",
   "execution_count": null,
   "metadata": {},
   "outputs": [],
   "source": [
    "const printMe = \"Spaghettified\"\n",
    "\n",
    "// Your code here"
   ]
  },
  {
   "cell_type": "markdown",
   "metadata": {},
   "source": [
    "Note the zero-based indexing in play.  \n",
    "\n",
    "**Exercise 7**: Write a program to check if any of the letters in the random string are `U` (and print the result). Print the input and your answer to verify.  "
   ]
  },
  {
   "cell_type": "code",
   "execution_count": null,
   "metadata": {},
   "outputs": [],
   "source": [
    "// Generate a string of \"U\" and \"l\". The string will have a roughly 50% of containing a U\n",
    "const check = Array(16).fill(\"\").map( ()=> Boolean(Math.floor(Math.random() * 25)) ? 'l' : 'U').join(\"\")\n",
    "\n",
    "// Your code here"
   ]
  },
  {
   "cell_type": "markdown",
   "metadata": {},
   "source": [
    "You've might have noticed a pattern forming. When looping through a string, you loops end up looking like this:"
   ]
  },
  {
   "cell_type": "code",
   "execution_count": null,
   "metadata": {},
   "outputs": [],
   "source": [
    "let str = \"something\"\n",
    "\n",
    "let index = 0\n",
    "while (index < str.length) {\n",
    "    // Do something...\n",
    "    index = index + 1\n",
    "}"
   ]
  },
  {
   "cell_type": "markdown",
   "metadata": {},
   "source": [
    "Because this pattern of incrementing a variable after each iteration is so common, we have syntactic sugar for it in many languages:"
   ]
  },
  {
   "cell_type": "code",
   "execution_count": null,
   "metadata": {},
   "outputs": [],
   "source": [
    "let index = 0\n",
    "let anotherStr = \"something\"\n",
    "while (index < str.length) {\n",
    "    // Do something...\n",
    "    index++\n",
    "}"
   ]
  },
  {
   "cell_type": "markdown",
   "metadata": {},
   "source": [
    "The `++` operator is known as the \"increment\" operator, and it has a subtraction counterpart, `--`, the \"decrement\" operator."
   ]
  },
  {
   "cell_type": "code",
   "execution_count": null,
   "metadata": {},
   "outputs": [],
   "source": [
    "let val = 40\n",
    "val-- // 39\n",
    "val-- // 38\n",
    "val++ // 39\n",
    "val++ // 40\n",
    "\n",
    "val++\n",
    "val++\n",
    "val++\n",
    "val--\n",
    "val++\n",
    "val--\n",
    "val-- // What is the value now? Print it to verify"
   ]
  },
  {
   "cell_type": "markdown",
   "metadata": {},
   "source": [
    "**Exercise 8**: Think about why the following code snippet doesn't make sense:  \n",
    "\n",
    "```JavaScript\n",
    "let otherVal\n",
    "otherVal++\n",
    "```"
   ]
  },
  {
   "cell_type": "markdown",
   "metadata": {},
   "source": [
    "Edit this cell and write your guess here, if you want: ..."
   ]
  },
  {
   "cell_type": "code",
   "execution_count": null,
   "metadata": {},
   "outputs": [],
   "source": [
    "// let's try running that code\n",
    "let otherVal\n",
    "otherVal++"
   ]
  },
  {
   "cell_type": "markdown",
   "metadata": {},
   "source": [
    "We get \"not a number\" or `NaN`. This makes sense because the increment operator takes a variable and re-assigns it to the value of that variable plus 1. But if the variable didn't have a value to begin with, what should the increment operator do?"
   ]
  },
  {
   "cell_type": "markdown",
   "metadata": {},
   "source": [
    "## `for` loops\n",
    "\n",
    "`for` loops make writing `while` loops easier and safer  "
   ]
  },
  {
   "cell_type": "markdown",
   "metadata": {},
   "source": [
    "**Exercise 9**: Just in case you weren't tired of iterating through strings yet, we have one more for you. Count the number of uppercase `'C'` characters in the given string. Make sure to print your program's input (`randCs`) and output to verify.  "
   ]
  },
  {
   "cell_type": "code",
   "execution_count": null,
   "metadata": {},
   "outputs": [],
   "source": [
    "// Generate a string with a random number of 'C's\n",
    "const randCs = Array(32).fill(\"\").map(()=>Boolean(Math.floor(Math.random() * 7)) ? 'b' : 'C').join(\"\")\n",
    "\n",
    "// Your code here"
   ]
  },
  {
   "cell_type": "markdown",
   "metadata": {},
   "source": [
    "Hopefully, you're tired of the `while` loop formula by now. It's long and it makes it easy to forget incrementing your index variable.  \n",
    "\n",
    "The `for` loop is syntactic sugar, much like `++`, that makes writing loops easier.  "
   ]
  },
  {
   "cell_type": "code",
   "execution_count": null,
   "metadata": {},
   "outputs": [],
   "source": [
    "for (let index = 0; index < finalValue; index++) {\n",
    "    // Loop body...\n",
    "}"
   ]
  },
  {
   "cell_type": "markdown",
   "metadata": {},
   "source": [
    "This `for` loop works as follows.\n",
    "\n",
    "1. Instantiate `index` to `0`\n",
    "2. Check the condition `index < finalValue`. If it's false, break the loop\n",
    "3. Execute the loop body\n",
    "4. Increment `index`\n",
    "5. Go to step 2"
   ]
  },
  {
   "cell_type": "markdown",
   "metadata": {},
   "source": [
    "This is (basically) the same as"
   ]
  },
  {
   "cell_type": "code",
   "execution_count": null,
   "metadata": {},
   "outputs": [],
   "source": [
    "let index = 0\n",
    "while (index < finalValue) {\n",
    "    // Loop body\n",
    "    index++\n",
    "}"
   ]
  },
  {
   "cell_type": "markdown",
   "metadata": {},
   "source": [
    "Except way more concise, readable, and less error-prone.  \n",
    "\n",
    "Consider a `while` loop that checks if a string contains the letter \"i\":  "
   ]
  },
  {
   "cell_type": "code",
   "execution_count": null,
   "metadata": {},
   "outputs": [],
   "source": [
    "let randomString = \"nasfknaksfbopeoqiwuhriwquhaksdnmas\"\n",
    "let foundI = false\n",
    "\n",
    "let index = 0\n",
    "while (index < randomString.length) {\n",
    "    if (randomString[index] === 'i') {\n",
    "        foundI = true\n",
    "    }\n",
    "    index++\n",
    "}\n",
    "\n",
    "console.log(foundI)"
   ]
  },
  {
   "cell_type": "markdown",
   "metadata": {},
   "source": [
    "This loop can be written as a `for` loop as:  "
   ]
  },
  {
   "cell_type": "code",
   "execution_count": null,
   "metadata": {},
   "outputs": [],
   "source": [
    "let randomString = \"nasfknaksfbopeoqiwuhriwquhaksdnmas\"\n",
    "let foundI = false\n",
    "\n",
    "for (let index = 0; index < randomString.length; index++) {\n",
    "    if (randomString[index] ==='i') {\n",
    "        foundI = true\n",
    "    }\n",
    "}\n",
    "\n",
    "console.log(foundI)"
   ]
  },
  {
   "cell_type": "markdown",
   "metadata": {},
   "source": [
    "**Exercise 10**: Re-write your answers to exercises 6, 7, and 9 as `for` loops.  "
   ]
  },
  {
   "cell_type": "code",
   "execution_count": null,
   "metadata": {},
   "outputs": [],
   "source": [
    "// Rewritten exercise 6"
   ]
  },
  {
   "cell_type": "code",
   "execution_count": null,
   "metadata": {},
   "outputs": [],
   "source": [
    "// Rewritten exercise 7"
   ]
  },
  {
   "cell_type": "code",
   "execution_count": null,
   "metadata": {},
   "outputs": [],
   "source": [
    "// Rewritten exercise 9"
   ]
  }
 ],
 "metadata": {
  "kernelspec": {
   "display_name": "Deno",
   "language": "typescript",
   "name": "deno"
  },
  "language_info": {
   "codemirror_mode": "typescript",
   "file_extension": ".ts",
   "mimetype": "text/x.typescript",
   "name": "typescript",
   "nbconvert_exporter": "script",
   "pygments_lexer": "typescript",
   "version": "5.5.2"
  }
 },
 "nbformat": 4,
 "nbformat_minor": 2
}
