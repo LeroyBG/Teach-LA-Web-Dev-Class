{
 "cells": [
  {
   "cell_type": "markdown",
   "metadata": {},
   "source": [
    "# Class 4: Functions"
   ]
  },
  {
   "cell_type": "markdown",
   "metadata": {},
   "source": [
    "## Recap: Loops\n",
    "\n",
    "Loops allow us to run a block of code repeatedly. The `while` loop checks a condition, and if the condition is true, executes its body. The `for` loop is syntactic sugar for a while loop that is more readable and less error prone.  \n",
    "\n",
    "In practice, `while` loops are used to do something until a condition is false. `for` loops are primarily useful when the total number of iterations is known when the loop starts (e.g. iterating through a string with known length, printing 10 stars to the screen).\n",
    "\n",
    "**Exercise 1**: `for` vs. `while` loop.  \n",
    "Double-click the cell below and write the type of loop you'd use \"for\" or \"while,\" in the given situation. You don't actually have to write the loop code.  "
   ]
  },
  {
   "cell_type": "markdown",
   "metadata": {},
   "source": [
    "- roll a dice until you roll a 6: \n",
    "- count the number of vowels in a word: \n",
    "- draw a new hand of cards until you get an ace: \n",
    "- repeatedly display an animation on the screen while the user is looking at the page: \n",
    "- output every number between 0 and 100 that isn't divisible by 17: "
   ]
  },
  {
   "cell_type": "markdown",
   "metadata": {},
   "source": [
    "## `console.log`\n",
    "\n",
    "Hopefully, you've been using `console.log()` to print messages to the screen for a while now. When you supply it a `string`, `number`, or `boolean` value, it prints those to the screen.  \n",
    "\n",
    "But what *is* `console.log()`. Clearly, it's not a `number`, `string`, or `boolean`.  \n",
    "\n",
    "In JavaScript, if you want to know the type of some variable, write `typeof` before the name of the variable and it will give you the variable type."
   ]
  },
  {
   "cell_type": "code",
   "execution_count": null,
   "metadata": {},
   "outputs": [],
   "source": [
    "// Run this cell\n",
    "console.log(typeof console.log )"
   ]
  },
  {
   "cell_type": "markdown",
   "metadata": {},
   "source": [
    "Woah... `console.log` is a function. \"What is a function?\" you may ask. Let's find out."
   ]
  },
  {
   "cell_type": "markdown",
   "metadata": {},
   "source": [
    "## Functions Intro\n",
    "\n",
    "We saw `number`s, which hold numeric values, `string`s, which hold characters, and `boolean`s, which hold `true` or `false`. There are many ways to describe a function, but my favorite definition is \"a variable that holds code.\"  \n",
    "\n",
    "Try running the cell below. Notice that nothing happens.  "
   ]
  },
  {
   "cell_type": "code",
   "execution_count": 11,
   "metadata": {},
   "outputs": [],
   "source": [
    "function printStar() {\n",
    "    console.log('     *     ')\n",
    "    console.log('    * *    ')\n",
    "    console.log('****   ****')\n",
    "    console.log('  *******  ')\n",
    "    console.log('  **   **  ')\n",
    "    console.log(' *       * ')\n",
    "}"
   ]
  },
  {
   "cell_type": "code",
   "execution_count": null,
   "metadata": {},
   "outputs": [],
   "source": [
    "// Now try this\n",
    "printStar()"
   ]
  },
  {
   "cell_type": "code",
   "execution_count": null,
   "metadata": {},
   "outputs": [],
   "source": [
    "// Or this\n",
    "printStar()\n",
    "printStar()\n",
    "printStar()\n",
    "printStar()\n"
   ]
  },
  {
   "cell_type": "code",
   "execution_count": null,
   "metadata": {},
   "outputs": [],
   "source": [
    "// What about this?\n",
    "for (let i = 0; i < 20; i++){\n",
    "    printStar()\n",
    "}"
   ]
  },
  {
   "cell_type": "markdown",
   "metadata": {},
   "source": [
    "Hopefully, you get the point. We define a function with the `function` keyword, with the code body between the brackets being the code that get executed when the function name is written next to parentheses `()`. Executing a function is often referred to as \"calling\" it.  "
   ]
  },
  {
   "cell_type": "code",
   "execution_count": null,
   "metadata": {},
   "outputs": [],
   "source": [
    "// Defining a function\n",
    "\n",
    "function functionName () {\n",
    "    // code body..\n",
    "}\n",
    "\n",
    "// Executing the function\n",
    "functionName()"
   ]
  },
  {
   "cell_type": "markdown",
   "metadata": {},
   "source": [
    "When you define your functions, you'd replace \"functionName\" with a fitting name.  "
   ]
  },
  {
   "cell_type": "code",
   "execution_count": 2,
   "metadata": {},
   "outputs": [],
   "source": [
    "function displayGreeting() {\n",
    "    console.log(\"Leroy was here\")\n",
    "}"
   ]
  },
  {
   "cell_type": "markdown",
   "metadata": {},
   "source": [
    "**Exercise**: In the code block below\n",
    "1. In the first cell define a function that prints some output, can be anything\n",
    "2. In the second cell, call the function\n",
    "3. In the third cell, call the function 10 times in a `for` loop"
   ]
  },
  {
   "cell_type": "code",
   "execution_count": 2,
   "metadata": {},
   "outputs": [],
   "source": [
    "// Define your function"
   ]
  },
  {
   "cell_type": "code",
   "execution_count": 3,
   "metadata": {},
   "outputs": [],
   "source": [
    "// Call your function"
   ]
  },
  {
   "cell_type": "code",
   "execution_count": null,
   "metadata": {},
   "outputs": [],
   "source": [
    "// Call your function in a loop"
   ]
  }
 ],
 "metadata": {
  "kernelspec": {
   "display_name": "Deno",
   "language": "typescript",
   "name": "deno"
  },
  "language_info": {
   "codemirror_mode": "typescript",
   "file_extension": ".ts",
   "mimetype": "text/x.typescript",
   "name": "typescript",
   "nbconvert_exporter": "script",
   "pygments_lexer": "typescript",
   "version": "5.5.2"
  }
 },
 "nbformat": 4,
 "nbformat_minor": 2
}
