{
 "cells": [
  {
   "cell_type": "markdown",
   "metadata": {},
   "source": [
    "# Class 4: Functions"
   ]
  },
  {
   "cell_type": "markdown",
   "metadata": {},
   "source": [
    "## Recap: Loops\n",
    "\n",
    "Loops allow us to run a block of code repeatedly. The `while` loop checks a condition, and if the condition is true, executes its body. The `for` loop is syntactic sugar for a while loop that is more readable and less error prone.  \n",
    "\n",
    "In practice, `while` loops are used to do something until a condition is false. `for` loops are primarily useful when the total number of iterations is known when the loop starts (e.g. iterating through a string with known length, printing 10 stars to the screen).\n",
    "\n",
    "**Exercise 1**: `for` vs. `while` loop.  \n",
    "Double-click the cell below and write the type of loop you'd use \"for\" or \"while,\" in the given situation. You don't actually have to write the loop code.  "
   ]
  },
  {
   "cell_type": "markdown",
   "metadata": {},
   "source": [
    "- roll a dice until you roll a 6: \n",
    "- count the number of vowels in a word: \n",
    "- draw a new hand of cards until you get an ace: \n",
    "- repeatedly display an animation on the screen while the user is looking at the page: \n",
    "- output every number between 0 and 100 that isn't divisible by 17: "
   ]
  },
  {
   "cell_type": "markdown",
   "metadata": {},
   "source": [
    "## Functions Intro\n",
    "\n",
    "Functions allow us to reuse code.  \n",
    "\n",
    "That's pretty boring compared to loops and conditionals, but I promise it gets interesting.  "
   ]
  },
  {
   "cell_type": "code",
   "execution_count": null,
   "metadata": {},
   "outputs": [],
   "source": [
    "// Try running this block\n",
    "function printW() {\n",
    "    console.log('*       *')\n",
    "    console.log(' *  *  * ')\n",
    "    console.log('  *   *  ')\n",
    "}\n",
    "\n",
    "printW()\n",
    "printW()"
   ]
  },
  {
   "cell_type": "markdown",
   "metadata": {},
   "source": [
    "When you run the above block, it prints two W's made of stars to the screen. Let's break down what's happening piece-by-piece.\n",
    "\n",
    "**Function Definition**  \n",
    "\n",
    "The first part of creating a function is \"defining\" it. This is when we write the `function` keyword, followed by the function name. What's the name of the function below?  \n",
    "\n",
    "```JavaScript\n",
    "function generateRandomImage() {\n",
    "    //...\n",
    "}\n",
    "```\n",
    "\n",
    "**Function Body**  \n",
    "\n",
    "Next, we define what the function actually does when it's used. The code goes inside the curly brackets that enclose the function.  "
   ]
  },
  {
   "cell_type": "code",
   "execution_count": null,
   "metadata": {},
   "outputs": [],
   "source": [
    "// Run this block to define the function\n",
    "function multiplyBigNumbers() {\n",
    "    // Start function body\n",
    "\n",
    "    const num1 = 980432\n",
    "    const num2 = 123531\n",
    "    console.log(num1 * num2)\n",
    "\n",
    "    // End function body\n",
    "}"
   ]
  },
  {
   "cell_type": "markdown",
   "metadata": {},
   "source": [
    "**Function Execution**\n",
    "\n",
    "To execute a function, write its name, followed by two parentheses. This is also known as \"calling\" a function.  "
   ]
  },
  {
   "cell_type": "code",
   "execution_count": null,
   "metadata": {},
   "outputs": [],
   "source": [
    "multiplyBigNumbers() // Will multiply the two big numbers and output the result"
   ]
  },
  {
   "cell_type": "markdown",
   "metadata": {},
   "source": [
    "Notice that if you try executing the above block before the one that defines the function, you will get an error. This is similar to if you try to use a variable that you haven't defined yet.  \n",
    "\n",
    "**Exercise 2 - Calling Functions**: Below I've defined two functions, one that prints a W and one that prints an O. Call the two functions to print 'WOWOW' in text art to the screen"
   ]
  },
  {
   "cell_type": "code",
   "execution_count": 8,
   "metadata": {},
   "outputs": [],
   "source": [
    "function printW() {\n",
    "    console.log('*       *')\n",
    "    console.log(' *  *  * ')\n",
    "    console.log('  *   *  ')\n",
    "}\n",
    "\n",
    "function printO() {\n",
    "    console.log(' ** ')\n",
    "    console.log('*  *')\n",
    "    console.log(' ** ')\n",
    "}\n",
    "\n",
    "// Your code below..."
   ]
  },
  {
   "cell_type": "markdown",
   "metadata": {},
   "source": [
    "**Exercise 3 - Defining a Function**: Define two functions: `printA` and `printZ`. `printA` and `printZ` should work the same as `printW` and `printO` - they should print the letters in their name using stars.  \n",
    "Then, use those functions as well as the ones defined in the cell above to print 'WOWZA' to the screen. You shouldn't need to copy-and-paste the definitions of `printW` and `printO` to the cell below. Just run the cell above and the functions should be available in the cell below.  "
   ]
  },
  {
   "cell_type": "code",
   "execution_count": 9,
   "metadata": {},
   "outputs": [],
   "source": [
    "// Define and run your functions in this block..."
   ]
  },
  {
   "cell_type": "markdown",
   "metadata": {},
   "source": [
    "### Parameters\n",
    "\n",
    "Parameters allow us to customize a function's behavior.  "
   ]
  },
  {
   "cell_type": "markdown",
   "metadata": {},
   "source": [
    "Printing letters made of stars to the screen was nice and all - it allowed us to reduce the amount of copy-pasting, making our life easier and our code easier to understand - but it's still pretty limited. Our functions do the exact same thing every time they're called.  \n",
    "\n",
    "Imagine if you had a toaster that always toasted the bread to the same toasted-ness... it's all good until you want something different.  \n",
    "\n",
    "Now you have two choices: either build *another* toaster that, same as the first one, always toasts bread a (different) certain amount; OR you can add a dial to the original toaster that lets you specify the toasted-ness.  \n",
    "\n",
    "Both solutions work, but one of them is much easier.  \n",
    "\n",
    "So, let's introduce some way of controlling our functions"
   ]
  },
  {
   "cell_type": "markdown",
   "metadata": {},
   "source": [
    "Consider the function `printDivisionOf3and5`:"
   ]
  },
  {
   "cell_type": "code",
   "execution_count": null,
   "metadata": {},
   "outputs": [],
   "source": [
    "function printDivisionOf3and5() {\n",
    "    console.log(3 / 5)\n",
    "}\n",
    "\n",
    "printDivisionOf3and5()"
   ]
  },
  {
   "cell_type": "markdown",
   "metadata": {},
   "source": [
    "This function is nice when you need to... print the result of dividing 3 and 5, but as soon as you want to divide another two numbers and print it, you gotta write another function...  \n",
    "\n",
    "So, let's add a knob to our toaster, aka, parameters for our function that allows us to specify which numbers to divide"
   ]
  },
  {
   "cell_type": "code",
   "execution_count": null,
   "metadata": {},
   "outputs": [],
   "source": [
    "function printDivision(divisor, dividend) {\n",
    "    const result = divisor / dividend\n",
    "    console.log(dividend + \" divides \" + divisor + \" \" + result + \" times.\")\n",
    "}\n",
    "\n",
    "printDivision(20, 7)\n",
    "printDivision(30, 12)\n",
    "printDivision(9086453, 12983)\n",
    "let num1 = 300\n",
    "let num2 = 25\n",
    "printDivision(num1, num2)"
   ]
  },
  {
   "cell_type": "markdown",
   "metadata": {},
   "source": [
    "In this example, our `printDivision` divides a number and then... prints it. The nice thing about this function is that we can give it *any* two numbers and it'll divide them.  "
   ]
  },
  {
   "cell_type": "markdown",
   "metadata": {},
   "source": [
    "`printDivision` looks different from the functions we saw below. In between the two parentheses in the function definition, we see two variables: `divisor` and `dividend`. Also, when we call `printDivision`, we put two values in between the parentheses after the function name.  \n",
    "\n",
    "The two variables inside the parentheses in `printDivision`'s function definition are called *parameters.* "
   ]
  },
  {
   "cell_type": "markdown",
   "metadata": {},
   "source": [
    "**Exercise 4 - Parameters**: Create a function that takes two strings as parameters, combines/concatenates them, and prints the result to the screen. Use the function once or twice to verify it works."
   ]
  },
  {
   "cell_type": "code",
   "execution_count": null,
   "metadata": {},
   "outputs": [],
   "source": [
    "// Define your function and test it here"
   ]
  },
  {
   "cell_type": "markdown",
   "metadata": {},
   "source": [
    "### Return Values"
   ]
  },
  {
   "cell_type": "markdown",
   "metadata": {},
   "source": [
    "Suppose we want to build a program that can get a user's location (if they give the app location access), and, from that location, find a local restaurant.  \n",
    "\n",
    "Here, we've got two imaginary huge functions. The first one grabs the location, the second one finds a restaurant near that location.  "
   ]
  },
  {
   "cell_type": "code",
   "execution_count": null,
   "metadata": {},
   "outputs": [],
   "source": [
    "// Assume this is some huge, 100-line function that you worked really hard on\n",
    "function getUserLocation() {\n",
    "    // Lots of code...\n",
    "    // More code...\n",
    "    const location = 123214.3524523\n",
    "    console.log(location)\n",
    "}\n",
    "\n",
    "// Assume this is another huge function\n",
    "function findLocalRestaurant(userLocation) {\n",
    "    // Compute local restaurants using location...\n",
    "    // Searching...\n",
    "    const localRestaurant = \"Chic Fil-A\"\n",
    "    console.log(localRestaurant)\n",
    "}\n",
    "\n",
    "getUserLocation()\n",
    "findLocalRestaurant() // <-- What do I put in there??"
   ]
  },
  {
   "cell_type": "markdown",
   "metadata": {},
   "source": [
    "The issue is that there's no easy way for us to access the result of `getUserLocation`. We can't easily read what's been output by the `console.log` inside `getUserLocation`.  \n",
    "\n",
    "If that's hard to understand, let's extend the toaster analogy in a way that might be less relatable. Suppose you're an inventor of kitchen gadgets and you'd like to create an automatic bagel maker. The first step to making a bagel, for many people, is toasting the bagel. Next, we apply cream cheese. Now suppose you've created a machine that applies cream cheese to bagels it's given. The issue is that your newly-knobbed toaster springs the bagel halves up for someone to take when it's done, with no way for the cream cheese-spreader to access the bagel. So, we need some way for the toaster to *push* the toasted bagels into the cream cheese-spreader.\n",
    "\n",
    "This is where `return` values are helpful. `return` values allow your function to produce a value when called, which allows the rest of your program to use the result of the function. Let's look at an example.  "
   ]
  },
  {
   "cell_type": "code",
   "execution_count": null,
   "metadata": {},
   "outputs": [],
   "source": [
    "// Assume this is some huge, 100-line function that you worked really hard on\n",
    "function getUserLocation() {\n",
    "    // Lots of code...\n",
    "    // More code...\n",
    "    const location = 123214.3524523\n",
    "    return location\n",
    "}\n",
    "\n",
    "// Assume this is another huge function\n",
    "function findLocalRestaurant(userLocation) {\n",
    "    // Compute local restaurants using location...\n",
    "    // Searching...\n",
    "    const localRestaurant = \"Chic Fil-A\"\n",
    "    return localRestaurant\n",
    "}\n",
    "\n",
    "let currentLocation = getUserLocation() // This isn't a constant variable because the user location might change\n",
    "let localRestaurant = findLocalRestaurant(currentLocation)\n",
    "console.log(localRestaurant)"
   ]
  },
  {
   "cell_type": "markdown",
   "metadata": {},
   "source": [
    "Now, `getUserLocation` returns the user location back to the program, so we can keep using it. In this case, we store it in the `currentLocation` variable.  \n",
    "\n",
    "We also added a return statement in `findLocalRestaurant`, just because it makes the code easier to read (and what if we need to use the result of `findLocalRestaurant` in the future?).  "
   ]
  },
  {
   "cell_type": "markdown",
   "metadata": {},
   "source": [
    "**Exercise 5 - Return values**: Define a function, `sum`, that takes two numbers and returns the sum of the two numbers."
   ]
  },
  {
   "cell_type": "code",
   "execution_count": null,
   "metadata": {},
   "outputs": [],
   "source": [
    "// Define and test your function here"
   ]
  },
  {
   "cell_type": "markdown",
   "metadata": {},
   "source": [
    "*Note on return values*: From now on, your functions will almost always express their final value in a return value. We rarely print out a function's final value instead of returning it because, as we saw before, that means the printed value isn't accessible to the rest of the program. Imagine if your `sum` function printed its result instead of returning it. Then, we wouldn't be able to do something like:"
   ]
  },
  {
   "cell_type": "code",
   "execution_count": null,
   "metadata": {},
   "outputs": [],
   "source": [
    "const s1 = sum(10, 41)\n",
    "const s2 = sum(124, 3342)\n",
    "const s3 = sum(s1, s2)\n",
    "print(s3)"
   ]
  },
  {
   "cell_type": "markdown",
   "metadata": {},
   "source": [
    "**Exercise 6 - Functions Practice**: Write a function, `even1s` that takes a string as a parameter, counts the number of `'1'`'s and if the number of `'1'`'s is even, returns `true` and returns `false` otherwise."
   ]
  },
  {
   "cell_type": "code",
   "execution_count": null,
   "metadata": {},
   "outputs": [],
   "source": [
    "// Define and test your function here"
   ]
  },
  {
   "cell_type": "markdown",
   "metadata": {},
   "source": [
    "**Exercise 7 - Functions Practice**: Write a function, `isPalindrome`, that takes a string as a parameter and returns `true` if the string is a palindrome, and `false` otherwise. \n",
    "\n",
    "A palindrome is a string that's the same forward as it is backwards. E.g. 'racecar', 'ABBA', 'civic', 'rotator', 'daskjnsadasnjksad', etc.  \n",
    "\n",
    "This question is a bit tricky!  \n",
    "\n",
    "*Hints:*  \n",
    "\n",
    "1. Verify that the last palindrome example is actually a palindrome. How did you do that? Try to code the way you just checked if that string is a palindrome.\n",
    "2. Here's how I did it. I look at the first and last letter to make sure they're the same. If they are, I move to the second and second to last letters, then the third and third to last, and so forth <-- try to code this behavior"
   ]
  },
  {
   "cell_type": "code",
   "execution_count": null,
   "metadata": {},
   "outputs": [],
   "source": [
    "// Define and test your function here"
   ]
  }
 ],
 "metadata": {
  "kernelspec": {
   "display_name": "Deno",
   "language": "typescript",
   "name": "deno"
  },
  "language_info": {
   "codemirror_mode": "typescript",
   "file_extension": ".ts",
   "mimetype": "text/x.typescript",
   "name": "typescript",
   "nbconvert_exporter": "script",
   "pygments_lexer": "typescript",
   "version": "5.5.2"
  }
 },
 "nbformat": 4,
 "nbformat_minor": 2
}
